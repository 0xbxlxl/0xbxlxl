{
 "cells": [
  {
   "cell_type": "code",
   "execution_count": null,
   "metadata": {},
   "outputs": [],
   "source": [
    "import numpy as np\n",
    "\n",
    "# concept: row and column (normalized) probability matrices (for t.probs) \n",
    "\n",
    "# from state (row index) i to state (column index) j \n",
    "trans_prob_mat = np.array([[0.99, 0.01], [0.05, 0.95]]) # casino example with \"fair\" and \"loaded\" dice\n",
    "\n",
    "print(trans_prob_mat.T) # column probability matrix (\"from column to row state\")"
   ]
  },
  {
   "cell_type": "code",
   "execution_count": null,
   "metadata": {},
   "outputs": [],
   "source": [
    "# iteration experiment\n",
    "\n",
    "n_rolls = 1\n",
    "start_prob_vec = np.array([1,0]) # initial \"fair\" state \n",
    "\n",
    "tprob_mat = trans_prob_mat.T\n",
    "prob_vec = start_prob_vec\n",
    "\n",
    "for i_roll in range(n_rolls):\n",
    "    prob_vec = tprob_mat @ prob_vec\n",
    "    \n",
    "print(prob_vec) # state probabilities after n_rolls steps\n",
    "    "
   ]
  },
  {
   "cell_type": "code",
   "execution_count": null,
   "metadata": {},
   "outputs": [],
   "source": [
    "eval_vec, evec_mat = np.linalg.eig(tprob_mat)\n",
    "\n",
    "print(\"Eigenvalues: \" + str(eval_vec))\n",
    "print(\"Eigenvectors as columns: \" + str(evec_mat))\n",
    "print(\"Eigenvectors as rows: \" + str(evec_mat.T))"
   ]
  },
  {
   "cell_type": "code",
   "execution_count": null,
   "metadata": {},
   "outputs": [],
   "source": [
    "fst_eigen_vec = evec_mat[:,0] # eigenvectors from eig have unit 2-norm (Euclidean length 1)!\n",
    "steadystate_prob_vec = fst_eigen_vec / fst_eigen_vec.sum() # so normalize to probabilities \n",
    "\n",
    "print(\"Steady state probabities: \" + str(steadystate_prob_vec))\n"
   ]
  }
 ],
 "metadata": {
  "kernelspec": {
   "display_name": "Python 3",
   "language": "python",
   "name": "python3"
  },
  "language_info": {
   "codemirror_mode": {
    "name": "ipython",
    "version": 3
   },
   "file_extension": ".py",
   "mimetype": "text/x-python",
   "name": "python",
   "nbconvert_exporter": "python",
   "pygments_lexer": "ipython3",
   "version": "3.7.3"
  }
 },
 "nbformat": 4,
 "nbformat_minor": 2
}
