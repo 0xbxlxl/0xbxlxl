{
 "cells": [
  {
   "cell_type": "markdown",
   "id": "bc9b9893-c67e-4ac4-aebe-64777150a850",
   "metadata": {},
   "source": [
    "##### Please include TIS-Ecoli.txt in the same folder to run the code"
   ]
  },
  {
   "cell_type": "markdown",
   "id": "4c933ff4-7e38-4692-821a-2fcc0866bb99",
   "metadata": {},
   "source": [
    "**Importing libraries**"
   ]
  },
  {
   "cell_type": "code",
   "execution_count": 21,
   "id": "828fc0a7-fe61-4371-a3ef-822e79aef432",
   "metadata": {},
   "outputs": [],
   "source": [
    "import numpy as np\n",
    "import matplotlib.pyplot as plt"
   ]
  },
  {
   "cell_type": "markdown",
   "id": "799faf24-04d3-40de-9a3a-77c9bc60a820",
   "metadata": {},
   "source": [
    "**read Ecoli file**"
   ]
  },
  {
   "cell_type": "code",
   "execution_count": 2,
   "id": "d602addc-eb87-435a-a07d-ed9a7ea745a6",
   "metadata": {},
   "outputs": [],
   "source": [
    "f = open(\"TIS-Ecoli.txt\", \"r\")"
   ]
  },
  {
   "cell_type": "markdown",
   "id": "c6bf4377-b0ee-427a-8137-1978c7fbf0c4",
   "metadata": {},
   "source": [
    "**transform this file into a matrix using numpy**"
   ]
  },
  {
   "cell_type": "code",
   "execution_count": 3,
   "id": "600d3af9-1f1a-4a4d-b2d8-0d9281582d16",
   "metadata": {},
   "outputs": [],
   "source": [
    "Ecoli_mat = np.loadtxt('TIS-Ecoli.txt', dtype=str)\n"
   ]
  },
  {
   "cell_type": "markdown",
   "id": "0f9169f3-df46-4188-8e4f-9ac70589ebed",
   "metadata": {},
   "source": [
    "**Next step is to identify how many true start codons are in the sequences and how many false ones**\n",
    "**For this we use For loops**"
   ]
  },
  {
   "cell_type": "code",
   "execution_count": 4,
   "id": "1b71f6bd-d344-4dcb-9938-121671582bca",
   "metadata": {},
   "outputs": [],
   "source": [
    "# Declaring our variables\n",
    "true_start_count = 0\n",
    "false_start_left_count = 0\n",
    "false_start_right_count = 0"
   ]
  },
  {
   "cell_type": "code",
   "execution_count": 5,
   "id": "90e80e5c-576c-4507-b341-dc80ee7fc327",
   "metadata": {},
   "outputs": [],
   "source": [
    "for sequence in Ecoli_mat:\n",
    "    # Check true start codon at position 101 (index 100 due to zero-indexing)\n",
    "    if sequence[100:103] in ['ATG', 'GTG', 'TTG']:\n",
    "        true_start_count += 1\n",
    "    \n",
    "    # Check non-coding region (left of 101)\n",
    "    for i in range(0, 100):\n",
    "        if sequence[i:i+3] in ['ATG', 'GTG', 'TTG']:\n",
    "            false_start_left_count += 1\n",
    "\n",
    "    # Check coding region (right of 101)\n",
    "    for i in range(102, len(sequence)-2):\n",
    "        if sequence[i:i+3] in ['ATG', 'GTG', 'TTG']:\n",
    "            false_start_right_count += 1"
   ]
  },
  {
   "cell_type": "code",
   "execution_count": 6,
   "id": "9e4dc849-5d3f-4535-a32c-e1119078d29c",
   "metadata": {},
   "outputs": [
    {
     "name": "stdout",
     "output_type": "stream",
     "text": [
      "True start codons at position 101: 721\n",
      "False start codons in non-coding region: 3227\n",
      "False start codons in coding region: 3083\n"
     ]
    }
   ],
   "source": [
    "print(\"True start codons at position 101:\", true_start_count)\n",
    "print(\"False start codons in non-coding region:\", false_start_left_count)\n",
    "print(\"False start codons in coding region:\", false_start_right_count)"
   ]
  },
  {
   "cell_type": "markdown",
   "id": "f6493aed-3923-491b-aa20-86f62f4067d8",
   "metadata": {},
   "source": [
    "#### Questions:\n",
    "##### Do all sequences show a valid true start codon? Do you see a difference in the distribution of codon variants between true and false ones?"
   ]
  },
  {
   "cell_type": "code",
   "execution_count": 7,
   "id": "b1c25321-4c90-4f5a-b94a-d956ba9752ec",
   "metadata": {},
   "outputs": [
    {
     "name": "stdout",
     "output_type": "stream",
     "text": [
      "722\n"
     ]
    }
   ],
   "source": [
    "print (len(Ecoli_mat))"
   ]
  },
  {
   "cell_type": "code",
   "execution_count": 8,
   "id": "9fffe66f-31dd-4a86-abbf-97574ae27a72",
   "metadata": {},
   "outputs": [
    {
     "name": "stdout",
     "output_type": "stream",
     "text": [
      "Sequence 303 does not have a valid start codon at position 101.\n"
     ]
    }
   ],
   "source": [
    "# 722 is 1 more sequence than the 721 number that we got for true start codons\n",
    "# We will try and identify this sequence by using enumerate\n",
    "# enumerate adds a counter at the start of each line, this way we can find which indexed line is faulty\n",
    "for i, sequence in enumerate(Ecoli_mat):\n",
    "    if sequence[100:103] not in ['ATG', 'GTG', 'TTG']:\n",
    "        print(f\"Sequence {i} does not have a valid start codon at position 101.\")"
   ]
  },
  {
   "cell_type": "markdown",
   "id": "30b5cb49-a78d-4ecf-83cb-4257b1500f94",
   "metadata": {},
   "source": [
    "##### To answer the first question 1 sequence did not show a valid start codon which is sequence 303."
   ]
  },
  {
   "cell_type": "markdown",
   "id": "26bd60ea-b656-4c01-b5dc-becff203be61",
   "metadata": {},
   "source": [
    "##### Q2: Yes, there is a difference in the distribution of start codon variants between true and false positions. While 721 sequences show a true start codon at position 101, false start codons appear frequently in both non-coding (3,227) and coding (3,083) regions. This suggests that the codon sequence alone is not a reliable indicator of start position, as similar sequences appear widely across both coding and non-coding regions."
   ]
  },
  {
   "cell_type": "code",
   "execution_count": 9,
   "id": "8cb50dd6-74e4-4f7c-a5ec-75f675b413cc",
   "metadata": {},
   "outputs": [],
   "source": [
    "# Initializing parameters and matrices\n",
    "n_positions = 30  # PWM length\n",
    "n_bases = 4  # A, T, G, C\n",
    "background_probabilities = np.full((n_bases,), 0.25)  # Uniform background model for each nucleotide\n",
    "\n",
    "# Initializing PWM matrix (4 rows for bases, 30 columns for positions before the start codon)\n",
    "pwm_mat = np.zeros((n_bases, n_positions))\n"
   ]
  },
  {
   "cell_type": "code",
   "execution_count": 10,
   "id": "d9c71019-5217-4b40-84f4-51e8fcc5a947",
   "metadata": {},
   "outputs": [
    {
     "name": "stdout",
     "output_type": "stream",
     "text": [
      "Binary matrix for the first sequence (4x30):\n",
      "[[False  True  True False False False False  True False False False False\n",
      "  False  True False False  True  True False  True False  True False False\n",
      "   True  True False  True False False]\n",
      " [False False False False  True False False False False  True  True  True\n",
      "  False False False  True False False  True False False False False False\n",
      "  False False  True False False  True]\n",
      " [ True False False False False  True  True False  True False False False\n",
      "   True False False False False False False False False False  True  True\n",
      "  False False False False False False]\n",
      " [False False False  True False False False False False False False False\n",
      "  False False  True False False False False False  True False False False\n",
      "  False False False False  True False]]\n"
     ]
    }
   ],
   "source": [
    "#Converting each sequence to a binary matrix indicating nucleotide positions\n",
    "binary_matrices = []\n",
    "\n",
    "for i_seq, sequence in enumerate(Ecoli_mat):\n",
    "    # Extract the 30-base region before the start codon\n",
    "    sequence_part = list(sequence[70:100])  # Positions 71 to 100 in zero-indexed terms, converted to list for element-wise comparision\n",
    "\n",
    "    # Create a 4x30 Boolean matrix for each base\n",
    "    binary_mat = np.array([\n",
    "        np.array(sequence_part) == 'A',  # Row for 'A'\n",
    "        np.array(sequence_part) == 'T',  # Row for 'T'\n",
    "        np.array(sequence_part) == 'G',  # Row for 'G'\n",
    "        np.array(sequence_part) == 'C'   # Row for 'C'\n",
    "    ])\n",
    "    \n",
    "    \n",
    "    # Append this binary matrix to the list for later processing\n",
    "    binary_matrices.append(binary_mat)\n",
    "\n",
    "# Print to verify the shape and first binary matrix\n",
    "print(\"Binary matrix for the first sequence (4x30):\")\n",
    "print(binary_matrices[0])\n"
   ]
  },
  {
   "cell_type": "markdown",
   "id": "ae3b0909-1a9e-4605-9bdb-7ec5d45ae077",
   "metadata": {},
   "source": [
    "##### Next step is to count base frequencies at each position"
   ]
  },
  {
   "cell_type": "code",
   "execution_count": 11,
   "id": "8f84fdb1-e8c2-4c08-980b-dc5dc67a7944",
   "metadata": {},
   "outputs": [
    {
     "name": "stdout",
     "output_type": "stream",
     "text": [
      "Base counts matrix (4x30):\n",
      "[[203 196 207 182 209 197 215 218 230 222 243 237 255 262 251 241 251 279\n",
      "  262 249 236 229 294 260 265 256 266 320 199 197]\n",
      " [220 184 196 205 196 205 196 196 202 222 186 205 211 197 199 198 165 149\n",
      "  124  74  69  73  90 140 186 195 189 109 233 197]\n",
      " [136 164 131 161 126 161 139 136 125 126 147 116 110 117 121 152 185 177\n",
      "  242 333 377 390 281 244 175 146 121 161  83 108]\n",
      " [163 178 188 174 191 159 172 172 165 152 146 164 146 146 151 131 121 117\n",
      "   94  66  40  30  57  78  96 125 146 132 207 220]]\n"
     ]
    }
   ],
   "source": [
    "# Converting the list of binary matrices to a 3D numpy array for easier summing\n",
    "binary_matrices_arr = np.array(binary_matrices)  # Shape: (num_sequences, 4, 30)\n",
    "\n",
    "# Sum along the first axis (axis=0) to get base counts at each position\n",
    "base_counts_mat = np.sum(binary_matrices_arr, axis=0)\n",
    "\n",
    "print(\"Base counts matrix (4x30):\")\n",
    "print(base_counts_mat)\n"
   ]
  },
  {
   "cell_type": "markdown",
   "id": "a60ddea7-b5c1-4c51-ba26-b2136e1e5768",
   "metadata": {},
   "source": [
    "##### Next step is to add pseudocounts which will prevent any zero counts"
   ]
  },
  {
   "cell_type": "code",
   "execution_count": 12,
   "id": "972d7ff5-cd48-4c0a-b801-738c592543ff",
   "metadata": {},
   "outputs": [
    {
     "name": "stdout",
     "output_type": "stream",
     "text": [
      "Adjusted base counts matrix with pseudocounts (4x30):\n",
      "[[204 197 208 183 210 198 216 219 231 223 244 238 256 263 252 242 252 280\n",
      "  263 250 237 230 295 261 266 257 267 321 200 198]\n",
      " [221 185 197 206 197 206 197 197 203 223 187 206 212 198 200 199 166 150\n",
      "  125  75  70  74  91 141 187 196 190 110 234 198]\n",
      " [137 165 132 162 127 162 140 137 126 127 148 117 111 118 122 153 186 178\n",
      "  243 334 378 391 282 245 176 147 122 162  84 109]\n",
      " [164 179 189 175 192 160 173 173 166 153 147 165 147 147 152 132 122 118\n",
      "   95  67  41  31  58  79  97 126 147 133 208 221]]\n"
     ]
    }
   ],
   "source": [
    "# Defining the pseudocount value\n",
    "pseudocount = 1\n",
    "\n",
    "# Adding the pseudocount to each element in the base_counts_mat\n",
    "adjusted_counts_mat = base_counts_mat + pseudocount\n",
    "\n",
    "print(\"Adjusted base counts matrix with pseudocounts (4x30):\")\n",
    "print(adjusted_counts_mat)"
   ]
  },
  {
   "cell_type": "markdown",
   "id": "5ca71d16-92bd-425d-9ea5-acd6698b9eae",
   "metadata": {},
   "source": [
    "##### Convert the matrix numbers into probabilities for each Nucleotide"
   ]
  },
  {
   "cell_type": "code",
   "execution_count": 13,
   "id": "34f0e8ee-ea94-4316-bc14-85288d089c7b",
   "metadata": {},
   "outputs": [
    {
     "name": "stdout",
     "output_type": "stream",
     "text": [
      "PWM matrix (4x30) with probabilities:\n",
      "[[0.28099174 0.27134986 0.28650138 0.25206612 0.2892562  0.27272727\n",
      "  0.29752066 0.30165289 0.31818182 0.30716253 0.33608815 0.32782369\n",
      "  0.35261708 0.36225895 0.34710744 0.33333333 0.34710744 0.38567493\n",
      "  0.36225895 0.34435262 0.32644628 0.31680441 0.40633609 0.35950413\n",
      "  0.36639118 0.35399449 0.3677686  0.44214876 0.27548209 0.27272727]\n",
      " [0.30440771 0.25482094 0.27134986 0.28374656 0.27134986 0.28374656\n",
      "  0.27134986 0.27134986 0.27961433 0.30716253 0.25757576 0.28374656\n",
      "  0.29201102 0.27272727 0.27548209 0.27410468 0.22865014 0.20661157\n",
      "  0.17217631 0.10330579 0.09641873 0.10192837 0.12534435 0.19421488\n",
      "  0.25757576 0.26997245 0.26170799 0.15151515 0.32231405 0.27272727]\n",
      " [0.18870523 0.22727273 0.18181818 0.2231405  0.17493113 0.2231405\n",
      "  0.19283747 0.18870523 0.17355372 0.17493113 0.20385675 0.16115702\n",
      "  0.15289256 0.16253444 0.16804408 0.2107438  0.25619835 0.24517906\n",
      "  0.33471074 0.4600551  0.52066116 0.53856749 0.38842975 0.33746556\n",
      "  0.24242424 0.20247934 0.16804408 0.2231405  0.11570248 0.15013774]\n",
      " [0.22589532 0.24655647 0.26033058 0.24104683 0.26446281 0.22038567\n",
      "  0.23829201 0.23829201 0.22865014 0.2107438  0.20247934 0.22727273\n",
      "  0.20247934 0.20247934 0.20936639 0.18181818 0.16804408 0.16253444\n",
      "  0.13085399 0.0922865  0.05647383 0.04269972 0.07988981 0.10881543\n",
      "  0.13360882 0.17355372 0.20247934 0.18319559 0.28650138 0.30440771]]\n"
     ]
    }
   ],
   "source": [
    "# Sum counts across each column to get the total counts at each position\n",
    "total_counts_vec = np.sum(adjusted_counts_mat, axis=0)  # Shape: (30,)\n",
    "\n",
    "# Divide each base count by the total counts for each position to get probabilities\n",
    "pwm_mat = adjusted_counts_mat / total_counts_vec\n",
    "\n",
    "print(\"PWM matrix (4x30) with probabilities:\")\n",
    "print(pwm_mat)"
   ]
  },
  {
   "cell_type": "markdown",
   "id": "1ab38b42-215b-4d72-ab03-d6524e6a7ab5",
   "metadata": {},
   "source": [
    "#### Next step is to convert these numbers into a log-odds score\n",
    "##### Calculating the log-odds score for a 30-base candidate sequence using the PWM.\n",
    "    \n",
    "    Parameters:\n",
    "    sequence (str): The 30-base candidate sequence.\n",
    "    pwm_mat (numpy array): The 4x30 PWM matrix with probabilities for A, T, G, C.\n",
    "    background_prob (float): Background probability for each base, default is 0.25.\n",
    "    \n",
    "    Returns:\n",
    "    float: Log-odds score for the sequence."
   ]
  },
  {
   "cell_type": "code",
   "execution_count": 14,
   "id": "c782b92e-b9fb-4685-b5bb-68668e21cee9",
   "metadata": {},
   "outputs": [
    {
     "name": "stdout",
     "output_type": "stream",
     "text": [
      "Log-odds score for the candidate sequence: -3.118701402903019\n"
     ]
    }
   ],
   "source": [
    "def score_sequence(sequence, pwm_mat, background_prob=0.25):\n",
    "     # Maping each base to a row index in the PWM matrix\n",
    "    base_to_row = {'A': 0, 'T': 1, 'G': 2, 'C': 3}\n",
    "    \n",
    "    # Initializing the log-odds score\n",
    "    log_odds_score = 0.0\n",
    "    \n",
    "    # Iterating over each position in the sequence\n",
    "    for position, base in enumerate(sequence):\n",
    "        # Get the PWM probability for the current base at the current position\n",
    "        pwm_prob = pwm_mat[base_to_row[base], position]\n",
    "        \n",
    "        # Calculating log-odds for this position and add to the total score\n",
    "        log_odds_score += np.log(pwm_prob / background_prob)\n",
    "    \n",
    "    return log_odds_score\n",
    "\n",
    "# Example usage with a sample 30-base sequence\n",
    "candidate_sequence = \"ATGCGTACGTAGCTGGCTAGCTAGCGTACG\"  # Example 30-base sequence\n",
    "score = score_sequence(candidate_sequence, pwm_mat)\n",
    "print(\"Log-odds score for the candidate sequence:\", score)"
   ]
  },
  {
   "cell_type": "markdown",
   "id": "e06e7f9c-fa71-4100-aea1-60eed6b6f60f",
   "metadata": {},
   "source": [
    "#### Next step: Defining a Detection Threshold Based on 50% True Positive Rate (TPR)\n",
    "1. Calculate Log-Odds Scores for True Candidates:\n",
    "Calculate the log-odds score for each of the true start codon candidates in all, then training set (first 400), then the test (rest).\n",
    "2. Set Detection Threshold t:\n",
    "Find the minimum score t such that at least 50% of the true start codon candidates that have scores above t.\n",
    "**This will ensure a 50% TPR.**\n",
    "3. Calculate False Positive Rate (FPR):\n",
    "For all false start codon candidates, calculate the log-odds scores.\n",
    "Count how many of these false candidates have scores above t to determine the **False Positive Rate (FPR).** FPR is defined as the number of false positives divided by the total number of false candidates.\n"
   ]
  },
  {
   "cell_type": "code",
   "execution_count": 17,
   "id": "ad879c2d-264a-4d2b-98a1-de6c0bd14e6f",
   "metadata": {},
   "outputs": [
    {
     "name": "stdout",
     "output_type": "stream",
     "text": [
      "Overall TPR (True Positive Rate): 0.4986149584487535\n",
      "Overall FPR (False Positive Rate): 0.03476553936905877\n"
     ]
    }
   ],
   "source": [
    "# Initialize lists to store log-odds scores for true and false candidates across the whole dataset\n",
    "all_true_scores = [] # To store log-odds scores for true start codons\n",
    "all_false_scores = [] # To store log-odds scores for false start codons\n",
    "\n",
    "# Calculate scores for the entire dataset\n",
    "for sequence in Ecoli_mat:\n",
    "    # True start codon candidate\n",
    "    true_candidate = sequence[70:100]  # Assume this is the true candidate\n",
    "    true_score = score_sequence(true_candidate, pwm_mat)\n",
    "    all_true_scores.append(true_score)\n",
    "    \n",
    "    # False start codon candidates (non-coding and coding regions)\n",
    "    for i in range(0, 70):  # Non-coding region\n",
    "        false_candidate = sequence[i:i+30]\n",
    "        false_score = score_sequence(false_candidate, pwm_mat)\n",
    "        all_false_scores.append(false_score)\n",
    "    \n",
    "    for i in range(101, len(sequence)-30):  # Coding region\n",
    "        false_candidate = sequence[i:i+30]\n",
    "        false_score = score_sequence(false_candidate, pwm_mat)\n",
    "        all_false_scores.append(false_score)\n",
    "\n",
    "\n",
    "# Step 2: Determine Threshold for 50% TPR\n",
    "# Sort true scores and find the threshold t that includes 50% of them\n",
    "all_true_scores.sort()\n",
    "t = all_true_scores[int(len(all_true_scores) * 0.5)]  # Threshold for 50% TPR\n",
    "\n",
    "# Calculate TPR: Proportion of true scores above the threshold\n",
    "tpr = sum(1 for score in all_true_scores if score > t) / len(all_true_scores)\n",
    "\n",
    "# Calculate FPR: Proportion of false scores above the threshold\n",
    "fpr = sum(1 for score in all_false_scores if score > t) / len(all_false_scores)\n",
    "\n",
    "print(\"Overall TPR (True Positive Rate):\", tpr)\n",
    "print(\"Overall FPR (False Positive Rate):\", fpr)\n"
   ]
  },
  {
   "cell_type": "markdown",
   "id": "ae668912-c0da-4a81-b324-818759e4dcf8",
   "metadata": {},
   "source": [
    "**FPR = 0.0347, meaning 3.47% of false candidates have scores above t and are incorrectly classified as likely start codons.**"
   ]
  },
  {
   "cell_type": "code",
   "execution_count": 18,
   "id": "0e32cc03-cb79-4037-ae27-17c52dc2133f",
   "metadata": {
    "scrolled": true
   },
   "outputs": [
    {
     "name": "stdout",
     "output_type": "stream",
     "text": [
      "Detection Threshold (t) for 50% TPR: 2.1120863371389262\n",
      "Training False Positive Rate (FPR): 0.036115107913669064\n"
     ]
    }
   ],
   "source": [
    "# Calculate Log-Odds Scores for True and False Candidates in the Training Set\n",
    "train_true_scores = []  \n",
    "train_false_scores = [] \n",
    "\n",
    "# Calculate scores for the first 400 sequences (training set)\n",
    "for sequence in Ecoli_mat[:400]:\n",
    "    # Extract and score the true start codon candidate\n",
    "    true_candidate = sequence[70:100]  # Assume this is the true candidate\n",
    "    true_score = score_sequence(true_candidate, pwm_mat)\n",
    "    train_true_scores.append(true_score)\n",
    "    \n",
    "    # Extract and score false start codon candidates (non-coding and coding sides)\n",
    "    for i in range(0, 70):  # Non-coding region (left side)\n",
    "        false_candidate = sequence[i:i+30]\n",
    "        false_score = score_sequence(false_candidate, pwm_mat)\n",
    "        train_false_scores.append(false_score)\n",
    "\n",
    "    for i in range(101, len(sequence)-30):  # Coding region (right side)\n",
    "        false_candidate = sequence[i:i+30]\n",
    "        false_score = score_sequence(false_candidate, pwm_mat)\n",
    "        train_false_scores.append(false_score)\n",
    "\n",
    "# Calculate FPR based on threshold t\n",
    "false_positives = sum(1 for score in train_false_scores if score > t)\n",
    "train_fpr = false_positives / len(train_false_scores)\n",
    "\n",
    "print(\"Detection Threshold (t) for 50% TPR:\", t)\n",
    "print(\"Training False Positive Rate (FPR):\", train_fpr)\n"
   ]
  },
  {
   "cell_type": "markdown",
   "id": "584e012a-eb66-444b-9082-6cd0d4e66c30",
   "metadata": {},
   "source": [
    "##### using this threshold for the test set"
   ]
  },
  {
   "cell_type": "code",
   "execution_count": 19,
   "id": "a45839c9-ae4b-4c6f-9ef2-7087a470fd0f",
   "metadata": {},
   "outputs": [
    {
     "name": "stdout",
     "output_type": "stream",
     "text": [
      "Test TPR (True Positive Rate): 0.5279503105590062\n",
      "Test FPR (False Positive Rate): 0.0330890567049466\n"
     ]
    }
   ],
   "source": [
    "# Initialize lists to store log-odds scores for true and false candidates in the test set\n",
    "test_true_scores = []\n",
    "test_false_scores = []\n",
    "\n",
    "# Calculate scores for the test set (sequences after index 400)\n",
    "for sequence in Ecoli_mat[400:]:\n",
    "    # True start codon candidate\n",
    "    true_candidate = sequence[70:100]\n",
    "    true_score = score_sequence(true_candidate, pwm_mat)\n",
    "    test_true_scores.append(true_score)\n",
    "    \n",
    "    # False start codon candidates (non-coding and coding regions)\n",
    "    for i in range(0, 70):  # Non-coding region\n",
    "        false_candidate = sequence[i:i+30]\n",
    "        false_score = score_sequence(false_candidate, pwm_mat)\n",
    "        test_false_scores.append(false_score)\n",
    "    \n",
    "    for i in range(101, len(sequence)-30):  # Coding region\n",
    "        false_candidate = sequence[i:i+30]\n",
    "        false_score = score_sequence(false_candidate, pwm_mat)\n",
    "        test_false_scores.append(false_score)\n",
    "\n",
    "# Calculate Test TPR: Proportion of true scores above the threshold\n",
    "test_tpr = sum(1 for score in test_true_scores if score > t) / len(test_true_scores)\n",
    "\n",
    "# Calculate Test FPR: Proportion of false scores above the threshold\n",
    "test_fpr = sum(1 for score in test_false_scores if score > t) / len(test_false_scores)\n",
    "\n",
    "print(\"Test TPR (True Positive Rate):\", test_tpr)\n",
    "print(\"Test FPR (False Positive Rate):\", test_fpr)\n"
   ]
  },
  {
   "cell_type": "markdown",
   "id": "904bbaf3-42cc-4530-b382-99d330a9b298",
   "metadata": {},
   "source": [
    "**Test FPR is 3.3%**"
   ]
  },
  {
   "cell_type": "markdown",
   "id": "767047f5-ad4e-4356-8801-227c9346883a",
   "metadata": {},
   "source": [
    "#### ROC Curve"
   ]
  },
  {
   "cell_type": "code",
   "execution_count": 26,
   "id": "0e9e3e08-680d-48ac-bb4a-2eba084cb6e2",
   "metadata": {},
   "outputs": [
    {
     "data": {
      "image/png": "[encoded data removed]",
      "text/plain": [
       "<Figure size 640x480 with 1 Axes>"
      ]
     },
     "metadata": {},
     "output_type": "display_data"
    },
    {
     "name": "stdout",
     "output_type": "stream",
     "text": [
      "AUC: 0.9084290428631151\n"
     ]
    }
   ],
   "source": [
    "# Concatenating all true and false scores\n",
    "y_true = np.array([1] * len(all_true_scores) + [0] * len(all_false_scores))\n",
    "y_scores = np.array(all_true_scores + all_false_scores)\n",
    "\n",
    "# Sort scores and associated labels\n",
    "sorted_indices = np.argsort(y_scores)[::-1]\n",
    "y_true_sorted = y_true[sorted_indices]\n",
    "y_scores_sorted = y_scores[sorted_indices]\n",
    "\n",
    "# Calculating cumulative sums for TPR and FPR\n",
    "cumsum_positive = np.cumsum(y_true_sorted)\n",
    "cumsum_negative = np.cumsum(1 - y_true_sorted)\n",
    "TPR = cumsum_positive / cumsum_positive[-1]  # Divide by total positives\n",
    "FPR = cumsum_negative / cumsum_negative[-1]  # Divide by total negatives\n",
    "\n",
    "# Plotting ROC Curve\n",
    "plt.plot(FPR, TPR, marker='o')\n",
    "plt.plot([0, 1], [0, 1], 'k--')  # Diagonal line for random predictions\n",
    "plt.xlabel('False Positive Rate')\n",
    "plt.ylabel('True Positive Rate')\n",
    "plt.title('ROC Curve')\n",
    "plt.show()\n",
    "\n",
    "# Calculating AUC\n",
    "auc = np.trapz(TPR, FPR)\n",
    "print(\"AUC:\", auc)\n"
   ]
  },
  {
   "cell_type": "markdown",
   "id": "48994ef1-68c5-42df-ade6-e9c6a80267bb",
   "metadata": {},
   "source": [
    "##### The ROC curve with AUC = 0.908 gives a solid performance measure for the model. The curve is both realistic and demonstrates that the model is effective at distinguishing true from false candidates, while the AUC value shows it's a well-performing classifier overall."
   ]
  },
  {
   "cell_type": "markdown",
   "id": "bc3230b0-87c0-49d4-a834-d6cf9dd9c99d",
   "metadata": {},
   "source": [
    "#### Next steps: Improving the ROC Curve"
   ]
  },
  {
   "cell_type": "markdown",
   "id": "fd9be589-ed6e-4492-8d4c-58d6f9b8dc88",
   "metadata": {},
   "source": [
    "##### shifting the PWM window one position into the coding region"
   ]
  },
  {
   "cell_type": "code",
   "execution_count": 27,
   "id": "2cd366c8-38d9-4dbe-9737-bbd1ec2a344f",
   "metadata": {},
   "outputs": [
    {
     "data": {
      "image/png": "[encoded data removed]",
      "text/plain": [
       "<Figure size 640x480 with 1 Axes>"
      ]
     },
     "metadata": {},
     "output_type": "display_data"
    },
    {
     "name": "stdout",
     "output_type": "stream",
     "text": [
      "Shifted Window AUC: 0.8733777419931223\n"
     ]
    }
   ],
   "source": [
    "# Adjust the PWM calculation to use the shifted window (29 bases before the start codon and the first base of the start codon)\n",
    "# You’ll need to rebuild the PWM based on this new region in your sequences.\n",
    "\n",
    "shifted_true_scores = []\n",
    "shifted_false_scores = []\n",
    "\n",
    "# Calculate scores for the entire dataset with the shifted window\n",
    "for sequence in Ecoli_mat:\n",
    "    # New true start codon candidate using 29 bases before + 1 base of the start codon\n",
    "    true_candidate_shifted = sequence[71:100] + sequence[100]  # Positions 71-99 + position 100\n",
    "    true_score_shifted = score_sequence(true_candidate_shifted, pwm_mat)  # Reuse score_sequence function\n",
    "    shifted_true_scores.append(true_score_shifted)\n",
    "    \n",
    "    # Calculate scores for false candidates in non-coding and coding regions with the new window\n",
    "    for i in range(0, 71):  # Non-coding region (left side)\n",
    "        false_candidate_shifted = sequence[i:i+29] + sequence[i+29]\n",
    "        false_score_shifted = score_sequence(false_candidate_shifted, pwm_mat)\n",
    "        shifted_false_scores.append(false_score_shifted)\n",
    "        \n",
    "    for i in range(102, len(sequence)-29):  # Coding region (right side)\n",
    "        false_candidate_shifted = sequence[i:i+29] + sequence[i+29]\n",
    "        false_score_shifted = score_sequence(false_candidate_shifted, pwm_mat)\n",
    "        shifted_false_scores.append(false_score_shifted)\n",
    "\n",
    "# Evaluate the new ROC curve and AUC using the shifted window\n",
    "\n",
    "# Concatenate shifted scores for true and false candidates\n",
    "y_true_shifted = np.array([1] * len(shifted_true_scores) + [0] * len(shifted_false_scores))\n",
    "y_scores_shifted = np.array(shifted_true_scores + shifted_false_scores)\n",
    "\n",
    "# Sort and calculate TPR/FPR\n",
    "sorted_indices_shifted = np.argsort(y_scores_shifted)[::-1]\n",
    "y_true_sorted_shifted = y_true_shifted[sorted_indices_shifted]\n",
    "cumsum_positive_shifted = np.cumsum(y_true_sorted_shifted)\n",
    "cumsum_negative_shifted = np.cumsum(1 - y_true_sorted_shifted)\n",
    "TPR_shifted = cumsum_positive_shifted / cumsum_positive_shifted[-1]\n",
    "FPR_shifted = cumsum_negative_shifted / cumsum_negative_shifted[-1]\n",
    "\n",
    "# Plot the new ROC Curve\n",
    "plt.plot(FPR_shifted, TPR_shifted, marker='o', label=\"Shifted Window\")\n",
    "plt.plot([0, 1], [0, 1], 'k--', label=\"Random\")\n",
    "plt.xlabel('False Positive Rate')\n",
    "plt.ylabel('True Positive Rate')\n",
    "plt.title('ROC Curve with Shifted Window')\n",
    "plt.legend()\n",
    "plt.show()\n",
    "\n",
    "# Calculate the new AUC\n",
    "auc_shifted = np.trapz(TPR_shifted, FPR_shifted)\n",
    "print(\"Shifted Window AUC:\", auc_shifted)\n"
   ]
  },
  {
   "cell_type": "markdown",
   "id": "8210f9a2-7cfa-45c7-b6bd-5c621c1c8213",
   "metadata": {},
   "source": [
    "**Question**\n",
    "\n",
    "Try to improve the AUC value on the test data by various modifications. First, shift the PWM window one position into the coding region, i.e., you are now using 29 positions before the start codon and the first base of the start codon. Does this increase the accuracy? What could be seen as a disadvantage of this extension with regard to detection of the different start codon variants?\n",
    "\n",
    "**Answer**\n",
    "\n",
    "    To attempt to improve the model's AUC, I modified the PWM window by shifting it one position into the coding region. This setup used 29 bases before the start codon and included the first base of the start codon itself. After recalculating the log-odds scores and plotting the ROC curve, I observed that the Shifted Window AUC was 0.873, which is lower than the original AUC of 0.908.\n",
    "\n",
    "    The results indicate that the shifted window did not improve accuracy; instead, it slightly decreased the model's ability to distinguish true start codons from false ones.\n",
    "\n",
    "    One potential disadvantage of this modification is that including the first base of the start codon introduces a bias towards certain start codons, such as \"ATG.\" This bias reduces the model’s flexibility and may limit its accuracy across alternative start codon patterns like \"GTG\" or \"TTG.\" Additionally, shifting the window removes one position from the upstream region, which could lead to a loss of valuable contextual information that contributes to start site identification.\n",
    "\n",
    "    In conclusion, keeping the original window configuration (30 bases before the start codon) provides better overall accuracy, as evidenced by the higher AUC."
   ]
  },
  {
   "cell_type": "markdown",
   "id": "74ec5bb1-b43a-4a57-a782-7bacf5bbe992",
   "metadata": {},
   "source": [
    "#### Testing different pseudocounts"
   ]
  },
  {
   "cell_type": "code",
   "execution_count": 28,
   "id": "b1b01619-ee09-4a58-9fb1-12ba5dc0da3c",
   "metadata": {},
   "outputs": [
    {
     "name": "stdout",
     "output_type": "stream",
     "text": [
      "Pseudocount 0.1 - AUC: 0.9084558858234887\n",
      "Pseudocount 0.5 - AUC: 0.9084435063193987\n",
      "Pseudocount 2.0 - AUC: 0.9083996053132556\n",
      "Pseudocount 10.0 - AUC: 0.9081516702062572\n"
     ]
    },
    {
     "data": {
      "image/png": "[encoded data removed]",
      "text/plain": [
       "<Figure size 640x480 with 1 Axes>"
      ]
     },
     "metadata": {},
     "output_type": "display_data"
    }
   ],
   "source": [
    "# Function to generate a PWM with a specified pseudocount\n",
    "def create_pwm_with_pseudocount(sequences, r=1.0):\n",
    "    # Initialize PWM matrix with pseudocounts\n",
    "    base_counts = np.zeros((4, 30)) + r  # 4 rows for A, T, G, C and 30 positions\n",
    "    # Assume `sequences` is a list of 30-base sequences where each position is A, T, G, or C\n",
    "    \n",
    "    for sequence in sequences:\n",
    "        for i, base in enumerate(sequence):\n",
    "            if base == 'A':\n",
    "                base_counts[0, i] += 1\n",
    "            elif base == 'T':\n",
    "                base_counts[1, i] += 1\n",
    "            elif base == 'G':\n",
    "                base_counts[2, i] += 1\n",
    "            elif base == 'C':\n",
    "                base_counts[3, i] += 1\n",
    "\n",
    "    # Convert counts to probabilities\n",
    "    pwm = base_counts / base_counts.sum(axis=0)\n",
    "    return pwm\n",
    "\n",
    "# Test different pseudocount values and store the AUCs\n",
    "pseudocounts = [0.1, 0.5, 2.0, 10.0]\n",
    "auc_values = {}\n",
    "\n",
    "for r in pseudocounts:\n",
    "    # Recalculate PWM with the new pseudocount\n",
    "    pwm_mat = create_pwm_with_pseudocount([seq[70:100] for seq in Ecoli_mat], r=r)\n",
    "    \n",
    "    # Recalculate log-odds scores for true and false candidates\n",
    "    all_true_scores = [score_sequence(seq[70:100], pwm_mat) for seq in Ecoli_mat]\n",
    "    all_false_scores = [score_sequence(seq[i:i+30], pwm_mat)\n",
    "                        for seq in Ecoli_mat for i in range(0, 70)]\n",
    "    all_false_scores += [score_sequence(seq[i:i+30], pwm_mat)\n",
    "                         for seq in Ecoli_mat for i in range(101, len(seq)-30)]\n",
    "\n",
    "    # Compute ROC and AUC\n",
    "    y_true = np.array([1] * len(all_true_scores) + [0] * len(all_false_scores))\n",
    "    y_scores = np.array(all_true_scores + all_false_scores)\n",
    "    sorted_indices = np.argsort(y_scores)[::-1]\n",
    "    y_true_sorted = y_true[sorted_indices]\n",
    "    cumsum_positive = np.cumsum(y_true_sorted)\n",
    "    cumsum_negative = np.cumsum(1 - y_true_sorted)\n",
    "    TPR = cumsum_positive / cumsum_positive[-1]\n",
    "    FPR = cumsum_negative / cumsum_negative[-1]\n",
    "    auc = np.trapz(TPR, FPR)\n",
    "    \n",
    "    auc_values[r] = auc\n",
    "    print(f\"Pseudocount {r} - AUC: {auc}\")\n",
    "\n",
    "# Plot AUC results\n",
    "plt.plot(list(auc_values.keys()), list(auc_values.values()), marker='o')\n",
    "plt.xlabel('Pseudocount (r)')\n",
    "plt.ylabel('AUC')\n",
    "plt.title('AUC for Different Pseudocount Values')\n",
    "plt.show()\n"
   ]
  },
  {
   "cell_type": "markdown",
   "id": "90b4ead1-e14a-4655-b303-58d56897cc3d",
   "metadata": {},
   "source": [
    "### Experimentation Summary\n",
    "\n",
    "1. **Pseudocount Optimization**:\n",
    "   - Different pseudocount values were tested: \\( r = 0.1, 0.5, 2.0, \\) and \\( 10.0 \\).\n",
    "   - The best AUC was achieved with \\( r = 0.1 \\), resulting in an AUC of **0.9085**.\n",
    "   - As the pseudocount increased, the AUC decreased slightly, indicating that higher pseudocount values may introduce excessive smoothing, which can reduce the model’s effectiveness in distinguishing true from false start codons.\n",
    "\n",
    "2. **Best Pseudocount Selection**:\n",
    "   - Based on the results, a pseudocount of \\( r = 0.1 \\) is optimal for this model, as it provides the highest AUC and balances the need for smoothing without overly diminishing the model's sensitivity to true patterns.\n",
    "\n",
    "3. **Next Steps**:\n",
    "   - Apply the optimized pseudocount \\( r = 0.1 \\) in conjunction with the improved background model derived from false candidates to further refine the model's accuracy.\n",
    "   - Reevaluate the model using this setup and report the AUC for the final configuration.\n",
    "\n",
    "This experimentation demonstrates that careful tuning of the pseudocount is important, as overly high values can lead to a loss in model accuracy. Using a minimal pseudocount (like \\( r = 0.1 \\)) provides the best balance, yielding the highest AUC and suggesting a more accurate model for start codon detection.\n"
   ]
  },
  {
   "cell_type": "code",
   "execution_count": 29,
   "id": "148e8651-e81a-4043-87d2-ecaa0d94fac6",
   "metadata": {},
   "outputs": [],
   "source": [
    "# Function to create a background model based on false candidates\n",
    "def create_background_model(sequences, L=30, r=0.1):\n",
    "    # Initialize counts with pseudocount\n",
    "    background_counts = np.zeros((4, L)) + r\n",
    "    \n",
    "    for sequence in sequences:\n",
    "        for i, base in enumerate(sequence):\n",
    "            if base == 'A':\n",
    "                background_counts[0, i] += 1\n",
    "            elif base == 'T':\n",
    "                background_counts[1, i] += 1\n",
    "            elif base == 'G':\n",
    "                background_counts[2, i] += 1\n",
    "            elif base == 'C':\n",
    "                background_counts[3, i] += 1\n",
    "\n",
    "    # Convert counts to probabilities\n",
    "    background_model = background_counts / background_counts.sum(axis=0)\n",
    "    return background_model\n",
    "\n",
    "# Create background model from false candidates in the training set\n",
    "false_candidates_training = [seq[i:i+30] for seq in Ecoli_mat[:400] for i in range(0, 70)]\n",
    "false_candidates_training += [seq[i:i+30] for seq in Ecoli_mat[:400] for i in range(101, len(seq)-30)]\n",
    "background_model = create_background_model(false_candidates_training)\n",
    "\n",
    "# We can now use this background model in the scoring function by adjusting the log-odds calculation.\n",
    "# Recalculating log-odds scores, plotting the ROC curve, and calculaing AUC as done previously.\n"
   ]
  },
  {
   "cell_type": "markdown",
   "id": "6c1ecf7e-86bd-4f0e-8792-986249fb4a64",
   "metadata": {},
   "source": [
    "##### Step 1: Defining the Scoring Function with the New Background Model"
   ]
  },
  {
   "cell_type": "code",
   "execution_count": 30,
   "id": "c7c97756-c88e-47e6-b496-3515fe49f4c3",
   "metadata": {},
   "outputs": [],
   "source": [
    "def score_sequence_with_background(sequence, pwm_mat, background_model):\n",
    "    \"\"\"\n",
    "    Calculate the log-odds score of a sequence using PWM and position-specific background model.\n",
    "    \n",
    "    Parameters:\n",
    "    sequence (str): The 30-base candidate sequence.\n",
    "    pwm_mat (numpy.ndarray): 4x30 PWM matrix with probabilities for A, T, G, C.\n",
    "    background_model (numpy.ndarray): 4x30 background model matrix with base probabilities.\n",
    "    \n",
    "    Returns:\n",
    "    float: Log-odds score for the sequence.\n",
    "    \"\"\"\n",
    "    base_to_row = {'A': 0, 'T': 1, 'G': 2, 'C': 3}\n",
    "    log_odds_score = 0.0\n",
    "\n",
    "    for i, base in enumerate(sequence):\n",
    "        if base in base_to_row:\n",
    "            row = base_to_row[base]\n",
    "            pwm_prob = pwm_mat[row, i]\n",
    "            bg_prob = background_model[row, i]\n",
    "            log_odds_score += np.log(pwm_prob / bg_prob)\n",
    "\n",
    "    return log_odds_score\n"
   ]
  },
  {
   "cell_type": "markdown",
   "id": "7c222991-1711-45bb-8f4a-2b1291120b29",
   "metadata": {},
   "source": [
    "##### Step 2: Recalculating Log-Odds Scores for True and False Candidates"
   ]
  },
  {
   "cell_type": "code",
   "execution_count": 31,
   "id": "b1c5cc93-17d8-4e19-850f-1b8119ab85d9",
   "metadata": {},
   "outputs": [],
   "source": [
    "# Calculating log-odds scores for true and false candidates\n",
    "all_true_scores = [score_sequence_with_background(seq[70:100], pwm_mat, background_model) for seq in Ecoli_mat]\n",
    "all_false_scores = [score_sequence_with_background(seq[i:i+30], pwm_mat, background_model)\n",
    "                    for seq in Ecoli_mat for i in range(0, 70)]\n",
    "all_false_scores += [score_sequence_with_background(seq[i:i+30], pwm_mat, background_model)\n",
    "                     for seq in Ecoli_mat for i in range(101, len(seq)-30)]\n"
   ]
  },
  {
   "cell_type": "markdown",
   "id": "61352c86-ba2a-4433-898b-354e2a565e2c",
   "metadata": {},
   "source": [
    "##### Step 3: Plotting the ROC Curve and Calculate AUC"
   ]
  },
  {
   "cell_type": "code",
   "execution_count": 32,
   "id": "49ec947e-2a19-4449-a11e-336063ff1517",
   "metadata": {},
   "outputs": [
    {
     "data": {
      "image/png": "[encoded data removed]",
      "text/plain": [
       "<Figure size 640x480 with 1 Axes>"
      ]
     },
     "metadata": {},
     "output_type": "display_data"
    },
    {
     "name": "stdout",
     "output_type": "stream",
     "text": [
      "AUC with Improved Background Model: 0.9110796920432055\n"
     ]
    }
   ],
   "source": [
    "import matplotlib.pyplot as plt\n",
    "\n",
    "# Concatenate scores and labels for ROC calculation\n",
    "y_true = np.array([1] * len(all_true_scores) + [0] * len(all_false_scores))\n",
    "y_scores = np.array(all_true_scores + all_false_scores)\n",
    "\n",
    "# Sort by predicted scores in descending order\n",
    "sorted_indices = np.argsort(y_scores)[::-1]\n",
    "y_true_sorted = y_true[sorted_indices]\n",
    "\n",
    "# Calculate cumulative sums for TPR and FPR\n",
    "cumsum_positive = np.cumsum(y_true_sorted)\n",
    "cumsum_negative = np.cumsum(1 - y_true_sorted)\n",
    "TPR = cumsum_positive / cumsum_positive[-1]  # Divide by total positives\n",
    "FPR = cumsum_negative / cumsum_negative[-1]  # Divide by total negatives\n",
    "\n",
    "# Plot the ROC Curve\n",
    "plt.plot(FPR, TPR, marker='o', label=\"Improved Background Model\")\n",
    "plt.plot([0, 1], [0, 1], 'k--', label=\"Random\")\n",
    "plt.xlabel('False Positive Rate')\n",
    "plt.ylabel('True Positive Rate')\n",
    "plt.title('ROC Curve with Improved Background Model')\n",
    "plt.legend()\n",
    "plt.show()\n",
    "\n",
    "# Calculate AUC\n",
    "auc = np.trapz(TPR, FPR)\n",
    "print(\"AUC with Improved Background Model:\", auc)\n"
   ]
  },
  {
   "cell_type": "markdown",
   "id": "258dfcfc-6b66-47ca-9f1c-86391cbabb4b",
   "metadata": {},
   "source": [
    "### Experimentation Summary with Improved Background Model\n",
    "\n",
    "To further improve model accuracy, I created a background model based on base frequencies from false candidates in the training set, instead of using a uniform background distribution. This approach reflects the actual nucleotide distribution in non-coding regions.\n",
    "\n",
    "1. **AUC Improvement**:\n",
    "   - With the improved background model, the AUC increased from **0.908** to **0.911**. This indicates that the model is now slightly better at distinguishing true start codons from false ones.\n",
    "\n",
    "2. **Significance of Improved Background Model**:\n",
    "   - The results demonstrate that using a customized background model, rather than a uniform one, allows the model to make more precise log-odds comparisons. The background model now reflects position-specific nucleotide distributions in non-coding regions, leading to better overall accuracy.\n"
   ]
  },
  {
   "cell_type": "markdown",
   "id": "c4865d0c-02d7-42f5-b20b-de4f824e29de",
   "metadata": {},
   "source": [
    "### Gene Prediction in Prokaryotes: Background and Key Considerations\n",
    "\n",
    "Gene prediction in prokaryotes involves identifying open reading frames (ORFs) and distinguishing true genes from random sequences within prokaryotic genomes. This process is often simpler in prokaryotes than in eukaryotes because:\n",
    "- Prokaryotic genes are typically organized in a continuous sequence without introns.\n",
    "- Gene density is high, and genes often have well-defined start and stop codons.\n",
    "\n",
    "Common methods for gene prediction in prokaryotes use **sequence patterns** (such as codon usage bias and nucleotide composition) and **machine learning models** to identify coding regions.\n",
    "\n",
    "### Ideas for Refinement and Extensions of the Basic Setup\n",
    "\n",
    "Here are some ideas to refine or extend the setup to improve accuracy and incorporate more biological realism:\n",
    "\n",
    "1. **Incorporate Stop Codons in the Model**  \n",
    "   Our current setup considers only start codon candidates and does not account for stop codons. In reality, true genes have both start and stop codons, and the presence of stop codons defines the end of an open reading frame (ORF).  \n",
    "   **Improvement Idea**: Extend the model to search for both start and stop codons, identifying complete ORFs between valid start and stop codons. This would allow for a more comprehensive evaluation of candidate regions and help avoid detecting partial or false ORFs.\n",
    "\n",
    "2. **Use a Window of Context**  \n",
    "   Currently, we are focusing on a 30-base region near the start codon. However, regulatory regions upstream and downstream of the start codon can contain signals that aid in identifying true start sites.  \n",
    "   **Improvement Idea**: Extend the analysis window to include additional upstream and downstream bases, allowing the model to incorporate more context around start and stop codons, which could improve the detection of true genes.\n",
    "\n",
    "3. **Consider Different Start Codon Variants**  \n",
    "   While ATG is the most common start codon, prokaryotes also use alternative start codons like GTG and TTG.  \n",
    "   **Improvement Idea**: Expand the model to detect these alternative start codons and assign a lower probability or weight to them based on their frequency in known prokaryotic genes. This would make the model more adaptable to variations in start codon usage across different genes.\n",
    "\n",
    "4. **Model Codon Usage Bias**  \n",
    "   Prokaryotes often exhibit codon usage bias, where certain codons are preferred over others for encoding specific amino acids.  \n",
    "   **Improvement Idea**: Build a codon usage model based on known prokaryotic genes and incorporate it into the scoring system. Regions with codon distributions similar to known coding sequences could be assigned higher probabilities, improving the model’s ability to distinguish coding from non-coding regions.\n",
    "\n",
    "5. **Include Ribosome Binding Sites (RBS)**  \n",
    "   In prokaryotes, the ribosome binding site (such as the Shine-Dalgarno sequence) is located upstream of the start codon and plays a crucial role in translation initiation.  \n",
    "   **Improvement Idea**: Incorporate the presence of RBS motifs in the model. By searching for these motifs in proximity to start codons, the model could better differentiate true start sites from false ones, as true genes are more likely to have an associated RBS.\n",
    "\n",
    "6. **Train the Model on a Comprehensive Dataset with Validated Genes**  \n",
    "   In this setup, we assumed all sequences outside the annotated start codon as false candidates, which may not always be accurate. Some regions outside the true start codon may still correspond to functional start sites, particularly in cases of overlapping genes or alternative translation starts.  \n",
    "   **Improvement Idea**: Use a curated dataset of verified prokaryotic genes with known start and stop codons to train the model. This would ensure that all false candidates are truly non-coding, avoiding any bias introduced by assuming all non-start-codon regions are false.\n",
    "\n",
    "7. **Incorporate ORF Length and Other Coding Potential Indicators**  \n",
    "   True genes in prokaryotes generally have certain minimum lengths and exhibit specific patterns in nucleotide composition and coding potential.  \n",
    "   **Improvement Idea**: Introduce ORF length as a feature in the model, penalizing shorter ORFs that are less likely to represent functional genes. Additionally, incorporating coding potential features (e.g., hexamer usage scores or periodicity in nucleotide composition) could help the model more accurately identify true genes.\n",
    "\n",
    "8. **Machine Learning Approaches**  \n",
    "   Classical gene prediction often uses rule-based or probabilistic approaches, but machine learning techniques (e.g., Support Vector Machines, Decision Trees, or Neural Networks) can leverage more complex patterns and relationships.  \n",
    "   **Improvement Idea**: Train a machine learning model that uses features such as codon usage, presence of RBS, ORF length, and start/stop codon patterns to classify sequences as coding or non-coding. Such a model could potentially learn more intricate patterns that indicate gene presence.\n",
    "\n",
    "### Improved Setup with Stop Codons and Enhanced Detection\n",
    "\n",
    "An improved theoretical setup would incorporate both start and stop codons to define full ORFs, instead of treating all candidates outside the true start codon as false. This setup would:\n",
    "\n",
    "1. **Search for ORFs Defined by Valid Start and Stop Codons**  \n",
    "   The model would scan for both start and stop codons, identifying candidate ORFs that begin with a start codon (ATG, GTG, TTG) and end with a stop codon (TAA, TAG, TGA).\n",
    "   \n",
    "2. **Penalize Short ORFs and Low Coding Potential**  \n",
    "   Short ORFs or regions that lack coding potential indicators would be assigned lower scores, reducing false positives from random sequences.\n",
    "\n",
    "3. **Incorporate Ribosome Binding Sites (RBS)**  \n",
    "   By searching for RBS motifs upstream of start codons, the model could more accurately predict true start sites associated with gene initiation.\n",
    "\n",
    "### Summary\n",
    "\n",
    "An advanced prokaryotic gene prediction model could be achieved by:\n",
    "- **Modeling complete ORFs with both start and stop codons**,\n",
    "- **Incorporating codon usage bias, ORF length, and RBS motifs**,\n",
    "- **Using verified training data to improve false candidate assumptions**,\n",
    "- And **exploring machine learning techniques** to learn complex patterns in coding sequences.\n",
    "\n",
    "These refinements would provide a more comprehensive and biologically accurate approach to gene prediction in prokaryotes, potentially leading to higher accuracy and fewer false positives.\n"
   ]
  },
  {
   "cell_type": "code",
   "execution_count": null,
   "id": "3625aec7-5c24-4e4d-a650-76d650805359",
   "metadata": {},
   "outputs": [],
   "source": []
  }
 ],
 "metadata": {
  "kernelspec": {
   "display_name": "Python 3 (ipykernel)",
   "language": "python",
   "name": "python3"
  },
  "language_info": {
   "codemirror_mode": {
    "name": "ipython",
    "version": 3
   },
   "file_extension": ".py",
   "mimetype": "text/x-python",
   "name": "python",
   "nbconvert_exporter": "python",
   "pygments_lexer": "ipython3",
   "version": "3.11.9"
  }
 },
 "nbformat": 4,
 "nbformat_minor": 5
}
